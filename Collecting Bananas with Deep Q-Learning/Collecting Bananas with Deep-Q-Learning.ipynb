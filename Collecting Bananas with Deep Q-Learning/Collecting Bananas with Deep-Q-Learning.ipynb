{
 "cells": [
  {
   "cell_type": "code",
   "execution_count": 1,
   "metadata": {},
   "outputs": [],
   "source": [
    "# Setup:\n",
    "import os\n",
    "import numpy as np\n",
    "import tensorflow as tf\n",
    "import matplotlib.pyplot as plt\n",
    "from datetime import datetime\n",
    "from unityagents import UnityEnvironment\n",
    "from tqdm.auto import tqdm\n",
    "from IPython.display import clear_output\n",
    "\n",
    "# Get rid of ugly tensorflow future warnings:\n",
    "clear_output()\n",
    "os.environ['TF_CPP_MIN_LOG_LEVEL'] = '3'\n",
    "os.environ['TF_CPP_MIN_LOG_LEVEL'] = '3'\n",
    "tf.logging.set_verbosity(tf.logging.ERROR)"
   ]
  },
  {
   "cell_type": "markdown",
   "metadata": {},
   "source": [
    "## Create a ReplayBuffer\n",
    "\n",
    "To break correlation between observations and stabilize training, we are going to use Experience Replay.\n",
    "For this, we are going to need a simple Replay Buffer to store experienced tuples of shape (observation, action, reward, next_observation)."
   ]
  },
  {
   "cell_type": "code",
   "execution_count": 2,
   "metadata": {},
   "outputs": [],
   "source": [
    "## Create a ReplayBuffer:\n",
    "class ReplayBuffer:\n",
    "    def __init__(self, observation_dim, action_dim, max_size):\n",
    "        self.observations = np.zeros([observation_dim, max_size], dtype=np.float32)\n",
    "        self.next_observations = np.zeros([observation_dim, max_size], dtype=np.float32)\n",
    "        self.actions = np.zeros(max_size, dtype=np.int32)\n",
    "        self.rewards = np.zeros(max_size, dtype=np.float32)\n",
    "        self.dones = np.zeros(max_size, dtype=np.float32)\n",
    "        self.pointer, self.size, self.max_size = 0, 0, max_size\n",
    "        \n",
    "    def store(self, observation, action, reward, next_observation, done):\n",
    "        self.observations[:, self.pointer] = observation\n",
    "        self.next_observations[:, self.pointer] = next_observation\n",
    "        self.actions[self.pointer] = action\n",
    "        self.rewards[self.pointer] = reward\n",
    "        self.dones[self.pointer] = done\n",
    "        self.pointer = (self.pointer + 1) % self.max_size\n",
    "        self.size = min(self.size + 1, self.max_size)\n",
    "        \n",
    "    def sample_batch(self, batch_size=32):\n",
    "        idxs = np.random.randint(0, self.size, size=batch_size)\n",
    "        return {'observations': self.observations[:, idxs].T,\n",
    "                'actions': self.actions[idxs],\n",
    "                'rewards': self.rewards[idxs],\n",
    "                'next_observations': self.next_observations[:, idxs].T,\n",
    "                'dones': self.dones[idxs]}"
   ]
  },
  {
   "cell_type": "markdown",
   "metadata": {},
   "source": [
    "## Creating a Estimator Class\n",
    "\n",
    "To further increase stability, we will use two Neural Networks during training: A target network for estimating the Q-Values of the following observations and a main network which is used to choose actions during training and consistently updated with regard to the target values derived from the imidiate reward and the values from the target network. The target network will be periodically replaced by the main network.\n",
    "\n",
    "We will wrap the needed functionality inside a class called DQN."
   ]
  },
  {
   "cell_type": "code",
   "execution_count": 3,
   "metadata": {},
   "outputs": [],
   "source": [
    "class DQN():\n",
    "    def __init__(self, input_dimension, output_dimension, hidden_layer_sizes, learning_rate, epsilon, scope):\n",
    "        \n",
    "        # Save attributes:\n",
    "        self.output_dimension = output_dimension\n",
    "        # We need to define a scope to be able retrieve the tensors of an individual model later on\n",
    "        self.scope = scope\n",
    "        self.learning_rate = learning_rate\n",
    "        self.optimizer = tf.train.AdamOptimizer(learning_rate)\n",
    "        \n",
    "        with tf.variable_scope(self.scope):\n",
    "            # Define the model graph, starting with the input placeholders\n",
    "            self.observations = tf.placeholder(shape=(None, input_dimension), dtype=tf.float32, name='observations')\n",
    "            self.targets = tf.placeholder(shape=(None, ), dtype=tf.float32, name='targets')\n",
    "            self.actions = tf.placeholder(shape=(None, ), dtype=tf.int32, name='actions')\n",
    "            \n",
    "            # Getting ready:\n",
    "            Z = self.observations\n",
    "\n",
    "            # Define the Neural Network:\n",
    "            for layer_size in hidden_layer_sizes:\n",
    "                Z = tf.layers.Dense(units=layer_size, activation='relu')(Z)\n",
    "\n",
    "            # Define the final layer:\n",
    "            self.predict_operation = tf.layers.Dense(units=self.output_dimension)(Z)\n",
    "\n",
    "            # Compute values of the selected actions:\n",
    "            selected_action_values = tf.reduce_sum(self.predict_operation * tf.one_hot(self.actions, \n",
    "                                                                self.output_dimension), reduction_indices=[1])\n",
    "\n",
    "            # Compute and optimize cost\n",
    "            self.cost = tf.reduce_mean(tf.losses.huber_loss(self.targets, selected_action_values))\n",
    "            self.train_operation = self.optimizer.minimize(self.cost)\n",
    "    \n",
    "    # A function to copy the variables of another DQN to this one:\n",
    "    def copy_from(self, other):\n",
    "        mine = [t for t in tf.trainable_variables() if t.name.startswith(self.scope)]\n",
    "        mine = sorted(mine, key = lambda x: x.name)\n",
    "        other = [t for t in tf.trainable_variables() if t.name.startswith(other.scope)]\n",
    "        other = sorted(other, key = lambda x: x.name)\n",
    "        \n",
    "        operations = []\n",
    "        for p, q in zip(mine, other):\n",
    "            operations.append(p.assign(q))\n",
    "        self.session.run(operations)\n",
    "        \n",
    "    # A function to save the params of the DQN:\n",
    "    def save(self, path):\n",
    "        params = [t for t in tf.trainable_variables() if t.name.startswith(self.scope)]\n",
    "        params = self.session.run(params)\n",
    "        np.savez(path, *params)\n",
    "        \n",
    "    # A function to load params to the DQN:\n",
    "    def load(self, path):\n",
    "        params = [t for t in tf.trainable_variables() if t.name.startswith(self.scope)]\n",
    "        npz = np.load(path)\n",
    "        operations = []\n",
    "        for p, f in zip(params, npz.files):\n",
    "            operations.append(p.assign(npz[f]))\n",
    "        self.session.run(operations)\n",
    "        \n",
    "    def set_session(self, session):\n",
    "        self.session = session\n",
    "        \n",
    "    def predict(self, observations):\n",
    "        return self.session.run(self.predict_operation, feed_dict={self.observations: observations})\n",
    "        \n",
    "    def update(self, observations, actions, targets):\n",
    "        c, _ = self.session.run([self.cost, self.train_operation],\n",
    "                                feed_dict={self.observations: observations, self.actions: actions, \n",
    "                                           self.targets: targets})\n",
    "        return c"
   ]
  },
  {
   "cell_type": "markdown",
   "metadata": {},
   "source": [
    "## Wrapping it into our Agent\n",
    "\n",
    "We will now wrap the networks and the buffer inside a class called Agent and equip this class with the necessary functionality to interact with the environment and learn."
   ]
  },
  {
   "cell_type": "code",
   "execution_count": 4,
   "metadata": {},
   "outputs": [],
   "source": [
    "class Agent():\n",
    "    def __init__(self, agent_config):\n",
    "        \n",
    "        # Save generell attributes\n",
    "        self.action_space = [i for i in range(agent_config.get('number_of_actions'))]\n",
    "        self.observation_dim = agent_config.get('observation_dim')\n",
    "        # Save attributes for the replay memory:\n",
    "        self.memory_size = agent_config.get('memory_size')\n",
    "        self.batch_size = agent_config.get('batch_size')\n",
    "        # Save attributes for the Neural Networks\n",
    "        self.hidden_layer_sizes = agent_config.get('hidden_layer_sizes')\n",
    "        self.learning_rate = agent_config.get('learning_rate')\n",
    "        # Save attributes for the agent itself concerning exploration, network updating and discouting\n",
    "        self.epsilon = agent_config.get('epsilon')\n",
    "        self.min_epsilon = agent_config.get('min_epsilon')\n",
    "        self.epsilon_decay_rate = agent_config.get('epsilon_decay_rate')\n",
    "        self.gamma = agent_config.get('gamma')\n",
    "        self.update_period = agent_config.get('update_period')\n",
    "        self.num_updates = 0\n",
    "        \n",
    "        # Initialize the parts:\n",
    "        self.memory = ReplayBuffer(observation_dim=self.observation_dim,\n",
    "                                   action_dim=len(self.action_space),\n",
    "                                   max_size=self.memory_size)\n",
    "        self.target_network = DQN(input_dimension=self.observation_dim,\n",
    "                                 output_dimension=len(self.action_space),\n",
    "                                 hidden_layer_sizes=self.hidden_layer_sizes,\n",
    "                                 learning_rate=self.learning_rate,\n",
    "                                 epsilon=self.epsilon,\n",
    "                                 scope='target_network')\n",
    "        self.main_network = DQN(input_dimension=self.observation_dim,\n",
    "                                 output_dimension=len(self.action_space),\n",
    "                                 hidden_layer_sizes=self.hidden_layer_sizes,\n",
    "                                 learning_rate=self.learning_rate,\n",
    "                                 epsilon=self.epsilon,\n",
    "                                 scope='main_network')\n",
    "        \n",
    "        # Initalize a shared session:\n",
    "        self.session = tf.InteractiveSession()\n",
    "        # Initialize variables:\n",
    "        init = tf.global_variables_initializer()\n",
    "        self.session.run(init)\n",
    "        # Set sessiions for the networks:\n",
    "        self.target_network.set_session(self.session)\n",
    "        self.main_network.set_session(self.session)\n",
    "        # Copy the weights from the main to the target network:\n",
    "        self.target_network.copy_from(self.main_network)\n",
    "        \n",
    "    def choose_action(self, observation):\n",
    "        observation = observation.reshape(1, self.observation_dim)\n",
    "        # Decrease the learning rate:\n",
    "        self.epsilon = max(self.min_epsilon, self.epsilon - self.epsilon_decay_rate)\n",
    "        # Are we going to explore?\n",
    "        if np.random.rand() < self.epsilon:\n",
    "            return np.random.choice(len(self.action_space))\n",
    "        # Seems like we are about te exploit.\n",
    "        action_values = self.main_network.predict(observation)[0]\n",
    "        # Casting is necessary for the environment\n",
    "        return np.argmax(action_values).astype(np.int32)\n",
    "        \n",
    "    def add_memory(self, observation, action, reward, next_observation, done):\n",
    "        self.memory.store(observation, action, reward, next_observation, done)\n",
    "        \n",
    "    def update_main(self):\n",
    "        # Sample experience:\n",
    "        experience = self.memory.sample_batch(self.batch_size)\n",
    "        observations = experience['observations']\n",
    "        actions = experience['actions']\n",
    "        rewards = experience['rewards']\n",
    "        next_observations = experience['next_observations']\n",
    "        # We are going to use the dones to adjust target values once a terminal observation is reached.\n",
    "        dones = experience['dones']\n",
    "        \n",
    "        # Calculate update targets:\n",
    "        next_Qs = self.target_network.predict(next_observations)\n",
    "        targets = rewards + dones * self.gamma * next_Qs\n",
    "        \n",
    "        # Update\n",
    "        self.main_network.update(observations, actions, targets)\n",
    "        self.num_updates += 1\n",
    "        \n",
    "        # Replace the target_network with the main_network after each update_period:\n",
    "        if self.num_updates % self.update_period == 0:\n",
    "            self.target_network.copy_from(self.main_network)\n",
    "        \n",
    "        return cost"
   ]
  },
  {
   "cell_type": "markdown",
   "metadata": {},
   "source": [
    "## Define an episode"
   ]
  },
  {
   "cell_type": "code",
   "execution_count": 5,
   "metadata": {},
   "outputs": [],
   "source": [
    "# A function used to play one episode with a given agent\n",
    "def play_one(agent, env, brain_name, train_mode=True):\n",
    "    \n",
    "    # Initialize the return\n",
    "    episode_return = 0\n",
    "    \n",
    "    # Start episode\n",
    "    env_info = env.reset(train_mode=train_mode)[brain_name]\n",
    "    observation = env_info.vector_observations[0]\n",
    "    done = False\n",
    "    \n",
    "    # Play\n",
    "    while not done:\n",
    "        # Interact with environment\n",
    "        action = agent.choose_action(observation)\n",
    "        env_info = env.step(action)[brain_name]\n",
    "        next_observation = env_info.vector_observations[0]\n",
    "        reward = env_info.rewards[0]\n",
    "        done = env_info.local_done[0]\n",
    "        episode_return += reward     \n",
    "\n",
    "        # Add memory\n",
    "        agent.add_memory(observation, action, reward, next_observation, done)\n",
    "        # Train from memory\n",
    "        cost = agent.learn()\n",
    "        \n",
    "        # Perform transition\n",
    "        observation = next_observation\n",
    "    \n",
    "    return episode_return"
   ]
  },
  {
   "cell_type": "markdown",
   "metadata": {},
   "source": [
    "## Training Day\n",
    "\n",
    "We are now going to train our agent by plaing many episodes defined above."
   ]
  },
  {
   "cell_type": "code",
   "execution_count": 6,
   "metadata": {},
   "outputs": [],
   "source": [
    "# A helper for evaluation and smooth plotting:\n",
    "def smooth(x):\n",
    "    n = len(x)\n",
    "    y = np.zeros(n)\n",
    "    for i in range(n):\n",
    "        start = max(0, i-99)\n",
    "        y[i] = float(x[start:(i+1)].sum()) / (i - start + 1)\n",
    "    return y"
   ]
  },
  {
   "cell_type": "code",
   "execution_count": 7,
   "metadata": {},
   "outputs": [
    {
     "name": "stderr",
     "output_type": "stream",
     "text": [
      "INFO:unityagents:\n",
      "'Academy' started successfully!\n",
      "Unity Academy name: Academy\n",
      "        Number of Brains: 1\n",
      "        Number of External Brains : 1\n",
      "        Lesson number : 0\n",
      "        Reset Parameters :\n",
      "\t\t\n",
      "Unity brain name: BananaBrain\n",
      "        Number of Visual Observations (per agent): 0\n",
      "        Vector Observation space type: continuous\n",
      "        Vector Observation space size (per agent): 37\n",
      "        Number of stacked Vector Observation: 1\n",
      "        Vector Action space type: discrete\n",
      "        Vector Action space size (per agent): 4\n",
      "        Vector Action descriptions: , , , \n"
     ]
    }
   ],
   "source": [
    "# Define parameters for our agent:\n",
    "observation_dim = 37\n",
    "hidden_layer_sizes = [256, 256]\n",
    "gamma = 0.99 # Discount factor for future rewards\n",
    "number_of_actions = 4 # Number of possible actions\n",
    "target_update_period = 10000 # The number of timesteps after which the target update is periodically replaced\n",
    "max_experiences = 500000 # Maximum size of the ReplayBuffer\n",
    "min_experiences = 50000 # Minimum amount of experience required before starting training\n",
    "batch_size = 32 # Number of (observation, action, reward, next_observation) tuples that will be sampled from experience\n",
    "learning_rate = 10e-5\n",
    "epsilon = 1 # We start by acting completely random and decrease the exploration in a linear manner after that.\n",
    "min_epsilon = 0.1 # The minimum amount of exploration we will perform\n",
    "\n",
    "agent_config = {\n",
    "    'observation_dim': observation_dim,\n",
    "    'number_of_actions': number_of_actions,\n",
    "    'memory_size': max_experiences,\n",
    "    'batch_size': batch_size,\n",
    "    'hidden_layer_sizes': hidden_layer_sizes,\n",
    "    'learning_rate': learning_rate,\n",
    "    'epsilon': epsilon,\n",
    "    'min_epsilon': min_epsilon,\n",
    "    'epsilon_decay_rate': (epsilon - min_epsilon) / 50000,\n",
    "    'gamma': gamma,\n",
    "    'update_period': target_update_period\n",
    "}\n",
    "\n",
    "agent = Agent(agent_config)\n",
    "env = UnityEnvironment(file_name=\"Banana_Windows/Banana.exe\")\n",
    "\n",
    "# get the default brain\n",
    "brain_name = env.brain_names[0]\n",
    "brain = env.brains[brain_name]"
   ]
  },
  {
   "cell_type": "markdown",
   "metadata": {},
   "source": [
    "___\n",
    "\n",
    "**In the next cell, actual training happens.\n",
    "You can skip this an simply load the pretrained weights further down the road.\n",
    "To do so, just skip ahead to chapter \"Agent Evaluation\"**\n",
    "___"
   ]
  },
  {
   "cell_type": "code",
   "execution_count": 8,
   "metadata": {
    "scrolled": false
   },
   "outputs": [
    {
     "data": {
      "application/vnd.jupyter.widget-view+json": {
       "model_id": "befd0a356fe34ce3a5f3d834f19d9b36",
       "version_major": 2,
       "version_minor": 0
      },
      "text/plain": [
       "HBox(children=(FloatProgress(value=0.0, max=50000.0), HTML(value='')))"
      ]
     },
     "metadata": {},
     "output_type": "display_data"
    },
    {
     "name": "stdout",
     "output_type": "stream",
     "text": [
      "\n"
     ]
    },
    {
     "data": {
      "application/vnd.jupyter.widget-view+json": {
       "model_id": "e878e630c1934891b3c434606f43d37c",
       "version_major": 2,
       "version_minor": 0
      },
      "text/plain": [
       "HBox(children=(FloatProgress(value=0.0, max=10000.0), HTML(value='')))"
      ]
     },
     "metadata": {},
     "output_type": "display_data"
    },
    {
     "name": "stdout",
     "output_type": "stream",
     "text": [
      "Average Return over the last 100 episodes: 0.78\n",
      "Average Return over the last 100 episodes: 5.37\n",
      "Average Return over the last 100 episodes: 7.27\n",
      "Average Return over the last 100 episodes: 7.85\n",
      "Average Return over the last 100 episodes: 10.05\n",
      "Average Return over the last 100 episodes: 11.14\n",
      "Average Return over the last 100 episodes: 10.97\n",
      "Average Return over the last 100 episodes: 12.09\n",
      "Average Return over the last 100 episodes: 11.16\n",
      "Average Return over the last 100 episodes: 11.68\n",
      "Average Return over the last 100 episodes: 13.18\n",
      "Average Return over the last 100 episodes: 13.11\n",
      "Average Return over the last 100 episodes: 12.33\n",
      "Average Return over the last 100 episodes: 10.15\n",
      "Average Return over the last 100 episodes: 12.3\n",
      "Average Return over the last 100 episodes: 13.11\n",
      "Average Return over the last 100 episodes: 13.53\n",
      "Average Return over the last 100 episodes: 13.81\n",
      "Average Return over the last 100 episodes: 13.55\n",
      "Average Return over the last 100 episodes: 12.28\n",
      "Average Return over the last 100 episodes: 12.72\n",
      "Average Return over the last 100 episodes: 12.68\n",
      "Average Return over the last 100 episodes: 13.65\n",
      "Average Return over the last 100 episodes: 12.5\n",
      "Average Return over the last 100 episodes: 13.83\n",
      "Average Return over the last 100 episodes: 14.07\n",
      "Average Return over the last 100 episodes: 14.88\n",
      "Average Return over the last 100 episodes: 14.2\n",
      "Average Return over the last 100 episodes: 14.64\n",
      "Average Return over the last 100 episodes: 13.75\n",
      "Average Return over the last 100 episodes: 13.91\n",
      "Average Return over the last 100 episodes: 13.32\n",
      "Average Return over the last 100 episodes: 14.12\n",
      "Average Return over the last 100 episodes: 14.02\n",
      "Average Return over the last 100 episodes: 13.95\n",
      "Average Return over the last 100 episodes: 13.69\n",
      "Average Return over the last 100 episodes: 13.62\n",
      "Average Return over the last 100 episodes: 13.24\n",
      "Average Return over the last 100 episodes: 12.8\n",
      "Average Return over the last 100 episodes: 13.83\n",
      "Average Return over the last 100 episodes: 13.35\n",
      "Average Return over the last 100 episodes: 13.94\n",
      "Average Return over the last 100 episodes: 15.06\n",
      "Average Return over the last 100 episodes: 14.1\n",
      "Average Return over the last 100 episodes: 13.99\n",
      "Average Return over the last 100 episodes: 14.54\n",
      "Average Return over the last 100 episodes: 13.94\n",
      "Average Return over the last 100 episodes: 13.57\n",
      "Average Return over the last 100 episodes: 14.53\n",
      "Average Return over the last 100 episodes: 13.43\n",
      "Average Return over the last 100 episodes: 14.45\n",
      "Average Return over the last 100 episodes: 13.98\n",
      "Average Return over the last 100 episodes: 12.43\n",
      "Average Return over the last 100 episodes: 12.74\n",
      "Average Return over the last 100 episodes: 14.03\n",
      "Average Return over the last 100 episodes: 13.11\n",
      "Average Return over the last 100 episodes: 13.44\n",
      "Average Return over the last 100 episodes: 13.81\n",
      "Average Return over the last 100 episodes: 13.91\n",
      "Average Return over the last 100 episodes: 13.71\n",
      "Average Return over the last 100 episodes: 13.67\n",
      "Average Return over the last 100 episodes: 14.46\n",
      "Average Return over the last 100 episodes: 14.11\n",
      "Average Return over the last 100 episodes: 14.14\n",
      "Average Return over the last 100 episodes: 13.18\n",
      "Average Return over the last 100 episodes: 14.08\n",
      "Average Return over the last 100 episodes: 13.78\n",
      "Average Return over the last 100 episodes: 13.82\n",
      "Average Return over the last 100 episodes: 13.2\n",
      "Average Return over the last 100 episodes: 14.11\n",
      "Average Return over the last 100 episodes: 13.6\n",
      "Average Return over the last 100 episodes: 14.69\n",
      "Average Return over the last 100 episodes: 13.99\n",
      "Average Return over the last 100 episodes: 14.59\n",
      "Average Return over the last 100 episodes: 13.78\n",
      "Average Return over the last 100 episodes: 13.99\n",
      "Average Return over the last 100 episodes: 14.15\n",
      "Average Return over the last 100 episodes: 13.93\n",
      "Average Return over the last 100 episodes: 13.26\n",
      "Average Return over the last 100 episodes: 13.64\n",
      "Average Return over the last 100 episodes: 14.03\n",
      "Average Return over the last 100 episodes: 13.83\n",
      "Average Return over the last 100 episodes: 13.23\n",
      "Average Return over the last 100 episodes: 13.83\n",
      "Average Return over the last 100 episodes: 14.1\n",
      "Average Return over the last 100 episodes: 14.05\n",
      "Average Return over the last 100 episodes: 14.55\n",
      "Average Return over the last 100 episodes: 14.13\n",
      "Average Return over the last 100 episodes: 14.33\n",
      "Average Return over the last 100 episodes: 13.65\n",
      "Average Return over the last 100 episodes: 13.77\n",
      "Average Return over the last 100 episodes: 13.76\n",
      "Average Return over the last 100 episodes: 13.3\n",
      "Average Return over the last 100 episodes: 13.08\n",
      "Average Return over the last 100 episodes: 13.67\n",
      "Average Return over the last 100 episodes: 12.85\n",
      "Average Return over the last 100 episodes: 13.41\n",
      "Average Return over the last 100 episodes: 13.74\n",
      "Average Return over the last 100 episodes: 13.22\n",
      "\n",
      "Over the last 100 episodes, the agent received an average return of 14.11\n"
     ]
    },
    {
     "data": {
      "image/png": "[encoded data removed]",
      "text/plain": [
       "<Figure size 1440x540 with 1 Axes>"
      ]
     },
     "metadata": {
      "needs_background": "light"
     },
     "output_type": "display_data"
    }
   ],
   "source": [
    "# Populating replay buffer:\n",
    "env_info = env.reset(train_mode=True)[brain_name]\n",
    "observation = env_info.vector_observations[0]\n",
    "done = False\n",
    "\n",
    "experience_counter = 0\n",
    "print('Filling Replay Buffer...')\n",
    "for True:\n",
    "    action = np.random.choice(4)\n",
    "    env_info = env.step(action)[brain_name]\n",
    "    reward = env_info.rewards[0]\n",
    "    next_observation = env_info.vector_observations[0]\n",
    "    done = env_info.local_done[0]\n",
    "\n",
    "    # Add memory\n",
    "    agent.add_memory(observation, action, reward, next_observation, done)\n",
    "    \n",
    "    if done:\n",
    "        env_info = env.reset(train_mode=True)[brain_name]\n",
    "        observation = env_info.vector_observations[0]\n",
    "        \n",
    "    experience_counter += 1\n",
    "    if experience_counter >= min_experiences:\n",
    "        break\n",
    "        \n",
    "# Now we are finally able to train our agent\n",
    "num_episodes = 5000\n",
    "episode_returns = np.zeros(num_episodes)\n",
    "\n",
    "print('Starting Training...')\n",
    "for i in tqdm(range(num_episodes)):\n",
    "    episode_returns[i] = play_one(agent, env, brain_name)\n",
    "    if i % 100 == 0 and i > 0:\n",
    "        print(f'Average Return over the last 100 episodes: {smooth(episode_returns[:i+1])[-1]}')\n",
    "        \n",
    "# Plot the results:\n",
    "plt.figure(figsize=(20,7.5))\n",
    "plt.plot(episode_returns)\n",
    "plt.plot(smooth(episode_returns), color='green')\n",
    "\n",
    "# Print the return over the last 100 episodes:\n",
    "print(f'Over the last 100 episodes, the agent received an average return of {smooth(episode_returns)[-1]}')\n",
    "\n",
    "# Save weights\n",
    "agent.main_network.save('weights/network_weights.npz')"
   ]
  },
  {
   "cell_type": "markdown",
   "metadata": {},
   "source": [
    "## Agent Evaluation"
   ]
  },
  {
   "cell_type": "code",
   "execution_count": 9,
   "metadata": {},
   "outputs": [],
   "source": [
    "# Load the pre-trained weights:\n",
    "agent.main_network.load('weights/network_weights.npz')\n",
    "agent.target_network.load('weights/network_weights.npz')\n",
    "\n",
    "# Set exploration to zero:\n",
    "agent.epsilon = 0"
   ]
  },
  {
   "cell_type": "code",
   "execution_count": 10,
   "metadata": {},
   "outputs": [
    {
     "data": {
      "application/vnd.jupyter.widget-view+json": {
       "model_id": "8021da985ced411aab17ba8c3496fda9",
       "version_major": 2,
       "version_minor": 0
      },
      "text/plain": [
       "HBox(children=(FloatProgress(value=0.0, max=10.0), HTML(value='')))"
      ]
     },
     "metadata": {},
     "output_type": "display_data"
    },
    {
     "name": "stdout",
     "output_type": "stream",
     "text": [
      "In run 1 the Agent received an average return of 14.14 over 100 episodes.\n",
      "In run 2 the Agent received an average return of 14.45 over 100 episodes.\n",
      "In run 3 the Agent received an average return of 13.8 over 100 episodes.\n",
      "In run 4 the Agent received an average return of 13.35 over 100 episodes.\n",
      "In run 5 the Agent received an average return of 13.46 over 100 episodes.\n",
      "In run 6 the Agent received an average return of 14.47 over 100 episodes.\n",
      "In run 7 the Agent received an average return of 14.44 over 100 episodes.\n",
      "In run 8 the Agent received an average return of 14.38 over 100 episodes.\n",
      "In run 9 the Agent received an average return of 14.49 over 100 episodes.\n",
      "In run 10 the Agent received an average return of 14.01 over 100 episodes.\n",
      "\n"
     ]
    }
   ],
   "source": [
    "# Play 100 episodes and print the average reward (repeated for 10 runs):\n",
    "for i in tqdm(range(10)):\n",
    "    cache = np.zeros(100)\n",
    "    for j in range(100):\n",
    "        cache[j] = play_one(agent, env, brain_name)\n",
    "    print(f'In run {i+1} the Agent received an average return of {np.mean(cache)} over 100 episodes.')"
   ]
  },
  {
   "cell_type": "code",
   "execution_count": 12,
   "metadata": {},
   "outputs": [
    {
     "data": {
      "text/plain": [
       "8.0"
      ]
     },
     "execution_count": 12,
     "metadata": {},
     "output_type": "execute_result"
    }
   ],
   "source": [
    "# Watch Time\n",
    "play_one(agent, env, brain_name, train_mode=False)"
   ]
  },
  {
   "cell_type": "code",
   "execution_count": null,
   "metadata": {},
   "outputs": [],
   "source": [
    "# Shutdown\n",
    "env.close()"
   ]
  }
 ],
 "metadata": {
  "kernelspec": {
   "display_name": "drl_nd",
   "language": "python",
   "name": "drl_nd"
  },
  "language_info": {
   "codemirror_mode": {
    "name": "ipython",
    "version": 3
   },
   "file_extension": ".py",
   "mimetype": "text/x-python",
   "name": "python",
   "nbconvert_exporter": "python",
   "pygments_lexer": "ipython3",
   "version": "3.6.10"
  }
 },
 "nbformat": 4,
 "nbformat_minor": 2
}
