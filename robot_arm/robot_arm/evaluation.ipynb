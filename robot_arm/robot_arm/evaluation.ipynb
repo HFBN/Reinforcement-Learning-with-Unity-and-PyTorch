{
 "cells": [
  {
   "cell_type": "markdown",
   "metadata": {},
   "source": [
    "## Setup"
   ]
  },
  {
   "cell_type": "code",
   "execution_count": 1,
   "metadata": {},
   "outputs": [],
   "source": [
    "import torch\n",
    "import numpy as np\n",
    "import matplotlib.pyplot as plt\n",
    "from unityagents import UnityEnvironment\n",
    "from agents.utils import get_config, smooth\n",
    "from agents.agents import DDPGAgent, TD3Agent\n",
    "from tqdm.auto import tqdm"
   ]
  },
  {
   "cell_type": "code",
   "execution_count": 2,
   "metadata": {},
   "outputs": [],
   "source": [
    "# Set global variables\n",
    "ACTOR_WEIGHTS_PATH = 'agents/weights/pretrained_actor.pt'\n",
    "CRITIC_WEIGHTS_PATH = 'agents/weights/pretrained_critic.pt'\n",
    "\n",
    "######################################## Define this as explained in README.md###########################################\n",
    "REACHER_PATH = 'environment/reacher_windows/Reacher.exe'\n",
    "#########################################################################################################################"
   ]
  },
  {
   "cell_type": "code",
   "execution_count": 3,
   "metadata": {},
   "outputs": [
    {
     "name": "stderr",
     "output_type": "stream",
     "text": [
      "INFO:unityagents:\n",
      "'Academy' started successfully!\n",
      "Unity Academy name: Academy\n",
      "        Number of Brains: 1\n",
      "        Number of External Brains : 1\n",
      "        Lesson number : 0\n",
      "        Reset Parameters :\n",
      "\t\tgoal_speed -> 1.0\n",
      "\t\tgoal_size -> 5.0\n",
      "Unity brain name: ReacherBrain\n",
      "        Number of Visual Observations (per agent): 0\n",
      "        Vector Observation space type: continuous\n",
      "        Vector Observation space size (per agent): 33\n",
      "        Number of stacked Vector Observation: 1\n",
      "        Vector Action space type: continuous\n",
      "        Vector Action space size (per agent): 4\n",
      "        Vector Action descriptions: , , , \n"
     ]
    }
   ],
   "source": [
    "# Initialize agent and environment\n",
    "agent_config = get_config()\n",
    "agent = TD3Agent(config=agent_config)\n",
    "env = UnityEnvironment(file_name=REACHER_PATH)\n",
    "\n",
    "# Set exploration to zero\n",
    "agent.train_mode = False\n",
    "\n",
    "# Load agent's weights:\n",
    "agent.load(ACTOR_WEIGHTS_PATH, CRITIC_WEIGHTS_PATH)\n",
    "\n",
    "# Get the default brain\n",
    "brain_name = env.brain_names[0]\n",
    "brain = env.brains[brain_name]"
   ]
  },
  {
   "cell_type": "markdown",
   "metadata": {},
   "source": [
    "## Play Time"
   ]
  },
  {
   "cell_type": "code",
   "execution_count": 4,
   "metadata": {},
   "outputs": [],
   "source": [
    "# A function used to play one episode with a given agent\n",
    "def play_one(agent, env, brain_name, train_mode=True):\n",
    "    \n",
    "    # Initialize the return\n",
    "    episode_return = 0\n",
    "    \n",
    "    # Start episode\n",
    "    env_info = env.reset(train_mode=train_mode)[brain_name]\n",
    "    observation = env_info.vector_observations[0]\n",
    "    done = False\n",
    "    \n",
    "    # Play\n",
    "    while not done:\n",
    "        # Interact with environment\n",
    "        action = agent.act(observation)\n",
    "        env_info = env.step(action)[brain_name]\n",
    "        next_observation = env_info.vector_observations[0]\n",
    "        reward = env_info.rewards[0]\n",
    "        done = env_info.local_done[0]\n",
    "        episode_return += reward     \n",
    "        \n",
    "        # Perform transition\n",
    "        observation = next_observation\n",
    "    \n",
    "    return episode_return"
   ]
  },
  {
   "cell_type": "markdown",
   "metadata": {},
   "source": [
    "## Evaluate"
   ]
  },
  {
   "cell_type": "code",
   "execution_count": 6,
   "metadata": {},
   "outputs": [
    {
     "data": {
      "application/vnd.jupyter.widget-view+json": {
       "model_id": "1807a78f7fb04e64a667e690e039e7b6",
       "version_major": 2,
       "version_minor": 0
      },
      "text/plain": [
       "HBox(children=(FloatProgress(value=0.0, max=10.0), HTML(value='')))"
      ]
     },
     "metadata": {},
     "output_type": "display_data"
    },
    {
     "name": "stdout",
     "output_type": "stream",
     "text": [
      "In run 1 the Agent received an average return of 38.8969991305843 over 100 episodes.\n",
      "In run 2 the Agent received an average return of 39.02369912775234 over 100 episodes.\n",
      "In run 3 the Agent received an average return of 39.07129912668839 over 100 episodes.\n",
      "In run 4 the Agent received an average return of 38.84899913165718 over 100 episodes.\n",
      "In run 5 the Agent received an average return of 39.1340991252847 over 100 episodes.\n",
      "In run 6 the Agent received an average return of 39.06709912678227 over 100 episodes.\n",
      "In run 7 the Agent received an average return of 38.98389912864193 over 100 episodes.\n",
      "In run 8 the Agent received an average return of 39.15019912492484 over 100 episodes.\n",
      "In run 9 the Agent received an average return of 39.075299126598985 over 100 episodes.\n",
      "In run 10 the Agent received an average return of 38.82129913227632 over 100 episodes.\n",
      "\n"
     ]
    }
   ],
   "source": [
    "# Set exploration to zero:\n",
    "agent.epsilon = 0\n",
    "# Play 100 episodes and print the average reward (repeated for 10 runs):\n",
    "for i in tqdm(range(10)):\n",
    "    cache = np.zeros(100)\n",
    "    for j in range(100):\n",
    "        cache[j] = play_one(agent, env, brain_name)\n",
    "    print(f'In run {i+1} the Agent received an average return of {np.mean(cache)} over 100 episodes.')"
   ]
  },
  {
   "cell_type": "markdown",
   "metadata": {},
   "source": [
    "## Watch"
   ]
  },
  {
   "cell_type": "code",
   "execution_count": 5,
   "metadata": {},
   "outputs": [
    {
     "data": {
      "text/plain": [
       "39.35999912023544"
      ]
     },
     "execution_count": 5,
     "metadata": {},
     "output_type": "execute_result"
    }
   ],
   "source": [
    "# Watch Time\n",
    "play_one(agent, env, brain_name, train_mode=False)"
   ]
  },
  {
   "cell_type": "markdown",
   "metadata": {},
   "source": [
    "## Cleanup"
   ]
  },
  {
   "cell_type": "code",
   "execution_count": 6,
   "metadata": {},
   "outputs": [],
   "source": [
    "# Shutdown\n",
    "env.close()"
   ]
  }
 ],
 "metadata": {
  "kernelspec": {
   "display_name": "drlnd",
   "language": "python",
   "name": "drlnd"
  },
  "language_info": {
   "codemirror_mode": {
    "name": "ipython",
    "version": 3
   },
   "file_extension": ".py",
   "mimetype": "text/x-python",
   "name": "python",
   "nbconvert_exporter": "python",
   "pygments_lexer": "ipython3",
   "version": "3.7.7"
  }
 },
 "nbformat": 4,
 "nbformat_minor": 2
}
