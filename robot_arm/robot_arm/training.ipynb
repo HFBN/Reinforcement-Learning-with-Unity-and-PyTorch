{
 "cells": [
  {
   "cell_type": "markdown",
   "metadata": {},
   "source": [
    "## Setup"
   ]
  },
  {
   "cell_type": "code",
   "execution_count": 1,
   "metadata": {},
   "outputs": [],
   "source": [
    "import torch\n",
    "import numpy as np\n",
    "import matplotlib.pyplot as plt\n",
    "from unityagents import UnityEnvironment\n",
    "from agents.utils import get_config, smooth\n",
    "from agents.agents import DDPGAgent, TD3Agent\n",
    "from tqdm.auto import tqdm"
   ]
  },
  {
   "cell_type": "code",
   "execution_count": 2,
   "metadata": {},
   "outputs": [
    {
     "data": {
      "text/plain": [
       "<torch._C.Generator at 0x21592517e50>"
      ]
     },
     "execution_count": 2,
     "metadata": {},
     "output_type": "execute_result"
    }
   ],
   "source": [
    "# Set global variables\n",
    "ACTOR_WEIGHTS_PATH = 'agents/weights/pretrained_actor.pt'\n",
    "CRITIC_WEIGHTS_PATH = 'agents/weights/pretrained_critic.pt'\n",
    "\n",
    "######################################## Define this as explained in README.md###########################################\n",
    "REACHER_PATH = 'environment/reacher_windows/Reacher.exe'\n",
    "#########################################################################################################################\n",
    "\n",
    "NUM_EPISODES = 1000\n",
    "\n",
    "# Set random seeds for reproducibility\n",
    "np.random.seed(42)\n",
    "torch.manual_seed(42)"
   ]
  },
  {
   "cell_type": "code",
   "execution_count": 3,
   "metadata": {},
   "outputs": [
    {
     "name": "stderr",
     "output_type": "stream",
     "text": [
      "INFO:unityagents:\n",
      "'Academy' started successfully!\n",
      "Unity Academy name: Academy\n",
      "        Number of Brains: 1\n",
      "        Number of External Brains : 1\n",
      "        Lesson number : 0\n",
      "        Reset Parameters :\n",
      "\t\tgoal_speed -> 1.0\n",
      "\t\tgoal_size -> 5.0\n",
      "Unity brain name: ReacherBrain\n",
      "        Number of Visual Observations (per agent): 0\n",
      "        Vector Observation space type: continuous\n",
      "        Vector Observation space size (per agent): 33\n",
      "        Number of stacked Vector Observation: 1\n",
      "        Vector Action space type: continuous\n",
      "        Vector Action space size (per agent): 4\n",
      "        Vector Action descriptions: , , , \n"
     ]
    }
   ],
   "source": [
    "# Initialize agent and environment\n",
    "agent_config = get_config()\n",
    "agent = TD3Agent(config=agent_config)\n",
    "env = UnityEnvironment(file_name=REACHER_PATH)\n",
    "\n",
    "# Get the default brain\n",
    "brain_name = env.brain_names[0]\n",
    "brain = env.brains[brain_name]"
   ]
  },
  {
   "cell_type": "markdown",
   "metadata": {},
   "source": [
    "## Training Day"
   ]
  },
  {
   "cell_type": "code",
   "execution_count": 4,
   "metadata": {},
   "outputs": [],
   "source": [
    "# A function used to play one episode with a given agent\n",
    "def play_one(agent, env, brain_name, train_mode=True):\n",
    "    \n",
    "    # Initialize the return\n",
    "    episode_return = 0\n",
    "    \n",
    "    # Initialize stepcounter\n",
    "    step_counter = 0\n",
    "    \n",
    "    # Reset Noise\n",
    "    agent.ou_noise.reset()\n",
    "    \n",
    "    # Start episode\n",
    "    env_info = env.reset(train_mode=train_mode)[brain_name]\n",
    "    observation = env_info.vector_observations[0]\n",
    "    done = False\n",
    "    \n",
    "    # Play\n",
    "    while not done:\n",
    "        # Interact with environment\n",
    "        action = agent.act(observation, step_counter)\n",
    "        env_info = env.step(action)[brain_name]\n",
    "        next_observation = env_info.vector_observations[0]\n",
    "        reward = env_info.rewards[0]\n",
    "        done = env_info.local_done[0]\n",
    "        episode_return += reward     \n",
    "\n",
    "        # Add memory\n",
    "        agent.memento(observation, action, reward, next_observation, done)\n",
    "        # Train from memory\n",
    "        if agent.memory.is_ready():\n",
    "            agent.learn()\n",
    "        \n",
    "        # Perform transition\n",
    "        observation = next_observation\n",
    "    \n",
    "    return episode_return"
   ]
  },
  {
   "cell_type": "code",
   "execution_count": null,
   "metadata": {},
   "outputs": [
    {
     "name": "stdout",
     "output_type": "stream",
     "text": [
      "Filling Replay Buffer...\n",
      "Starting Training...\n"
     ]
    },
    {
     "data": {
      "application/vnd.jupyter.widget-view+json": {
       "model_id": "dc2bd6807f5048a2b93ccb45d330a3db",
       "version_major": 2,
       "version_minor": 0
      },
      "text/plain": [
       "HBox(children=(FloatProgress(value=0.0, max=1000.0), HTML(value='')))"
      ]
     },
     "metadata": {},
     "output_type": "display_data"
    },
    {
     "name": "stdout",
     "output_type": "stream",
     "text": [
      "Average Return over the last 100 episodes: 0.5581818057054823\n",
      "Average Return over the last 100 episodes: 0.540952368861153\n",
      "Average Return over the last 100 episodes: 0.8325806265516628\n",
      "Average Return over the last 100 episodes: 1.1685365592470256\n",
      "Average Return over the last 100 episodes: 1.4292156543290497\n",
      "Average Return over the last 100 episodes: 1.619180291677352\n",
      "Average Return over the last 100 episodes: 2.116760516066996\n",
      "Average Return over the last 100 episodes: 2.5916048803447205\n",
      "Average Return over the last 100 episodes: 3.099670260387299\n",
      "Average Return over the last 100 episodes: 3.4994999217800795\n",
      "Average Return over the last 100 episodes: 4.346699902843684\n",
      "Average Return over the last 100 episodes: 5.221299883294851\n",
      "Average Return over the last 100 episodes: 5.853199869170785\n",
      "Average Return over the last 100 episodes: 6.811599847748876\n",
      "Average Return over the last 100 episodes: 7.533099831622094\n",
      "Average Return over the last 100 episodes: 8.375499812792986\n",
      "Average Return over the last 100 episodes: 9.253899793159217\n",
      "Average Return over the last 100 episodes: 9.713299782890827\n"
     ]
    }
   ],
   "source": [
    "# Populating replay buffer:\n",
    "env_info = env.reset(train_mode=True)[brain_name]\n",
    "observation = env_info.vector_observations[0]\n",
    "done = False\n",
    "\n",
    "print('Filling Replay Buffer...')\n",
    "while not agent.memory.is_ready():\n",
    "    action = np.clip(np.random.randn(4), -1, 1)\n",
    "    env_info = env.step(action)[brain_name]\n",
    "    reward = env_info.rewards[0]\n",
    "    next_observation = env_info.vector_observations[0]\n",
    "    done = env_info.local_done[0]\n",
    "\n",
    "    # Add memory\n",
    "    agent.memento(observation, action, reward, next_observation, done)\n",
    "    \n",
    "    observation = next_observation\n",
    "    if done:\n",
    "        env_info = env.reset(train_mode=True)[brain_name]\n",
    "        observation = env_info.vector_observations[0]\n",
    "\n",
    "# Now we are able to train our agent\n",
    "episode_returns = np.zeros(NUM_EPISODES)\n",
    "\n",
    "# Activate agent's train mode\n",
    "agent.train_mode = True\n",
    "\n",
    "print('Starting Training...')\n",
    "for i in tqdm(range(NUM_EPISODES)):\n",
    "    episode_returns[i] = play_one(agent, env, brain_name)\n",
    "    if i % (NUM_EPISODES // 10) == 0 and i > 0:\n",
    "        print(f'Average Return over the last 100 episodes: {smooth(episode_returns[:i+1])[-1]}')"
   ]
  },
  {
   "cell_type": "code",
   "execution_count": null,
   "metadata": {},
   "outputs": [],
   "source": [
    "# Plot the results:\n",
    "plt.figure(figsize=(20,7.5))\n",
    "plt.plot(episode_returns, color='gainsboro', label='return per episode')\n",
    "plt.plot(smooth(episode_returns), color='blue', label='return averaged over last 100 episodes')\n",
    "plt.plot(np.ones(NUM_EPISODES)*30, color='black', label='Target return (30)')\n",
    "plt.legend()\n",
    "\n",
    "# Print the return over the last 100 episodes:\n",
    "print(f'Over the last 100 episodes, the agent received an average return of {smooth(episode_returns)[-1]}')"
   ]
  },
  {
   "cell_type": "code",
   "execution_count": null,
   "metadata": {},
   "outputs": [],
   "source": [
    "# Save weights\n",
    "agent.save(ACTOR_WEIGHTS_PATH, CRITIC_WEIGHTS_PATH)"
   ]
  },
  {
   "cell_type": "markdown",
   "metadata": {},
   "source": [
    "## Evaluate"
   ]
  },
  {
   "cell_type": "code",
   "execution_count": null,
   "metadata": {},
   "outputs": [],
   "source": [
    "# Dectivate agent's train mode (setting exploration to zero)\n",
    "agent.train_mode = False\n",
    "# Play 100 episodes and print the average reward (repeated for 10 runs):\n",
    "for i in tqdm(range(1)):\n",
    "    cache = np.zeros(100)\n",
    "    for j in range(100):\n",
    "        cache[j] = play_one(agent, env, brain_name)\n",
    "    print(f'In run {i+1} the Agent received an average return of {np.mean(cache)} over 100 episodes.')"
   ]
  },
  {
   "cell_type": "markdown",
   "metadata": {},
   "source": [
    "## Watch"
   ]
  },
  {
   "cell_type": "code",
   "execution_count": null,
   "metadata": {},
   "outputs": [],
   "source": [
    "# Watch Time\n",
    "play_one(agent, env, brain_name, train_mode=False)"
   ]
  },
  {
   "cell_type": "markdown",
   "metadata": {},
   "source": [
    "## Clean up"
   ]
  },
  {
   "cell_type": "code",
   "execution_count": null,
   "metadata": {},
   "outputs": [],
   "source": [
    "# Shutdown\n",
    "env.close()"
   ]
  }
 ],
 "metadata": {
  "kernelspec": {
   "display_name": "drlnd",
   "language": "python",
   "name": "drlnd"
  },
  "language_info": {
   "codemirror_mode": {
    "name": "ipython",
    "version": 3
   },
   "file_extension": ".py",
   "mimetype": "text/x-python",
   "name": "python",
   "nbconvert_exporter": "python",
   "pygments_lexer": "ipython3",
   "version": "3.7.7"
  }
 },
 "nbformat": 4,
 "nbformat_minor": 2
}
