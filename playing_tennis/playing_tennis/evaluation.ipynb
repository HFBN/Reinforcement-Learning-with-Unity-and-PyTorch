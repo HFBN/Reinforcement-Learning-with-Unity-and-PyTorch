{
 "cells": [
  {
   "cell_type": "markdown",
   "metadata": {},
   "source": [
    "## Setup"
   ]
  },
  {
   "cell_type": "code",
   "execution_count": 1,
   "metadata": {},
   "outputs": [],
   "source": [
    "import torch\n",
    "import numpy as np\n",
    "import matplotlib.pyplot as plt\n",
    "from unityagents import UnityEnvironment\n",
    "from agents.utils import get_config, smooth\n",
    "from agents.agents import DDPGAgent, TD3Agent\n",
    "from tqdm.auto import tqdm"
   ]
  },
  {
   "cell_type": "code",
   "execution_count": 2,
   "metadata": {},
   "outputs": [],
   "source": [
    "# Set global variables\n",
    "FIRST_ACTOR_WEIGHTS_PATH = 'agents/weights/pretrained_first_actor.pt'\n",
    "FIRST_CRITIC_WEIGHTS_PATH = 'agents/weights/pretrained_first_critic.pt'\n",
    "SECOND_ACTOR_WEIGHTS_PATH = 'agents/weights/pretrained_second_actor.pt'\n",
    "SECOND_CRITIC_WEIGHTS_PATH = 'agents/weights/pretrained_second_critic.pt'\n",
    "\n",
    "######################################## Define this as explained in README.md###########################################\n",
    "TENNIS_PATH = 'environment/tennis_windows/Tennis.exe'\n",
    "#########################################################################################################################"
   ]
  },
  {
   "cell_type": "code",
   "execution_count": 3,
   "metadata": {},
   "outputs": [
    {
     "name": "stderr",
     "output_type": "stream",
     "text": [
      "INFO:unityagents:\n",
      "'Academy' started successfully!\n",
      "Unity Academy name: Academy\n",
      "        Number of Brains: 1\n",
      "        Number of External Brains : 1\n",
      "        Lesson number : 0\n",
      "        Reset Parameters :\n",
      "\t\t\n",
      "Unity brain name: TennisBrain\n",
      "        Number of Visual Observations (per agent): 0\n",
      "        Vector Observation space type: continuous\n",
      "        Vector Observation space size (per agent): 8\n",
      "        Number of stacked Vector Observation: 3\n",
      "        Vector Action space type: continuous\n",
      "        Vector Action space size (per agent): 2\n",
      "        Vector Action descriptions: , \n"
     ]
    }
   ],
   "source": [
    "# Initialize agent and environment\n",
    "agent_config = get_config()\n",
    "first_agent = TD3Agent(config=agent_config)\n",
    "second_agent = TD3Agent(config=agent_config)\n",
    "env = UnityEnvironment(file_name=TENNIS_PATH)\n",
    "\n",
    "# Set exploration to zero\n",
    "first_agent.train_mode = False\n",
    "second_agent.train_mode = False\n",
    "\n",
    "# Load agent's weights:\n",
    "first_agent.load(FIRST_ACTOR_WEIGHTS_PATH, FIRST_CRITIC_WEIGHTS_PATH)\n",
    "second_agent.load(SECOND_ACTOR_WEIGHTS_PATH, SECOND_CRITIC_WEIGHTS_PATH)\n",
    "\n",
    "# Get the default brain\n",
    "brain_name = env.brain_names[0]\n",
    "brain = env.brains[brain_name]"
   ]
  },
  {
   "cell_type": "markdown",
   "metadata": {},
   "source": [
    "## Play Time"
   ]
  },
  {
   "cell_type": "code",
   "execution_count": 4,
   "metadata": {},
   "outputs": [],
   "source": [
    "# A function used to play one episode with given agents\n",
    "def play_one(first_agent, second_agent, env, brain_name, train_mode=True):\n",
    "    \n",
    "    # Initialize the return\n",
    "    first_agent_episode_return = 0\n",
    "    second_agent_episode_return = 0\n",
    "    \n",
    "    # Start episode\n",
    "    env_info = env.reset(train_mode=train_mode)[brain_name]\n",
    "    first_observation = env_info.vector_observations[0, :]\n",
    "    second_observation = env_info.vector_observations[1, :]\n",
    "    done = False\n",
    "    \n",
    "    # Play\n",
    "    while not done:\n",
    "        # Interact with environment\n",
    "        first_action = first_agent.act(first_observation)\n",
    "        second_action = second_agent.act(second_observation)\n",
    "        action = np.concatenate([first_action, second_action], axis=0)\n",
    "        env_info = env.step(action)[brain_name]\n",
    "        next_first_observation = env_info.vector_observations[0, :]\n",
    "        next_second_observation = env_info.vector_observations[1, :]\n",
    "        first_agent_reward = env_info.rewards[0]\n",
    "        second_agent_reward = env_info.rewards[1]\n",
    "        done = env_info.local_done[0]\n",
    "        first_agent_episode_return += first_agent_reward\n",
    "        second_agent_episode_return += second_agent_reward\n",
    "        \n",
    "        # Perform transition\n",
    "        first_observation = next_first_observation\n",
    "        second_observation = next_second_observation\n",
    "    \n",
    "    return np.maximum(first_agent_episode_return, second_agent_episode_return)"
   ]
  },
  {
   "cell_type": "markdown",
   "metadata": {},
   "source": [
    "## Evaluate"
   ]
  },
  {
   "cell_type": "code",
   "execution_count": 6,
   "metadata": {},
   "outputs": [
    {
     "data": {
      "application/vnd.jupyter.widget-view+json": {
       "model_id": "002e50ab326a42919c6bb713325e39eb",
       "version_major": 2,
       "version_minor": 0
      },
      "text/plain": [
       "HBox(children=(FloatProgress(value=0.0, max=10.0), HTML(value='')))"
      ]
     },
     "metadata": {},
     "output_type": "display_data"
    },
    {
     "name": "stdout",
     "output_type": "stream",
     "text": [
      "In run 1 the better performing Agent received an average return of 2.527000037655234 over 100 episodes.\n",
      "In run 2 the better performing Agent received an average return of 2.4430000364035367 over 100 episodes.\n",
      "In run 3 the better performing Agent received an average return of 2.475000036880374 over 100 episodes.\n",
      "In run 4 the better performing Agent received an average return of 2.52300003759563 over 100 episodes.\n",
      "In run 5 the better performing Agent received an average return of 2.5530000380426645 over 100 episodes.\n",
      "In run 6 the better performing Agent received an average return of 2.3670000352710487 over 100 episodes.\n",
      "In run 7 the better performing Agent received an average return of 2.4220000360906124 over 100 episodes.\n",
      "In run 8 the better performing Agent received an average return of 2.4700000368058683 over 100 episodes.\n",
      "In run 9 the better performing Agent received an average return of 2.3430000349134206 over 100 episodes.\n",
      "In run 10 the better performing Agent received an average return of 2.498000037223101 over 100 episodes.\n",
      "\n"
     ]
    }
   ],
   "source": [
    "# Play 100 episodes and print the average reward (repeated for 10 runs):\n",
    "for i in tqdm(range(10)):\n",
    "    cache = np.zeros(100)\n",
    "    for j in range(100):\n",
    "        cache[j] = play_one(first_agent, second_agent, env, brain_name)\n",
    "    print(f'In run {i+1} the better performing Agent received an average return of {np.mean(cache)} over 100 episodes.')"
   ]
  },
  {
   "cell_type": "markdown",
   "metadata": {},
   "source": [
    "## Watch"
   ]
  },
  {
   "cell_type": "code",
   "execution_count": 5,
   "metadata": {},
   "outputs": [
    {
     "data": {
      "text/plain": [
       "2.600000038743019"
      ]
     },
     "execution_count": 5,
     "metadata": {},
     "output_type": "execute_result"
    }
   ],
   "source": [
    "# Watch Time\n",
    "play_one(first_agent, second_agent, env, brain_name, train_mode=False)"
   ]
  },
  {
   "cell_type": "markdown",
   "metadata": {},
   "source": [
    "## Cleanup"
   ]
  },
  {
   "cell_type": "code",
   "execution_count": 7,
   "metadata": {},
   "outputs": [],
   "source": [
    "# Shutdown\n",
    "env.close()"
   ]
  }
 ],
 "metadata": {
  "kernelspec": {
   "display_name": "drlnd",
   "language": "python",
   "name": "drlnd"
  },
  "language_info": {
   "codemirror_mode": {
    "name": "ipython",
    "version": 3
   },
   "file_extension": ".py",
   "mimetype": "text/x-python",
   "name": "python",
   "nbconvert_exporter": "python",
   "pygments_lexer": "ipython3",
   "version": "3.7.7"
  }
 },
 "nbformat": 4,
 "nbformat_minor": 2
}
