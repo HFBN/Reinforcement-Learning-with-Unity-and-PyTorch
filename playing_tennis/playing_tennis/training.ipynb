{
 "cells": [
  {
   "cell_type": "markdown",
   "metadata": {},
   "source": [
    "## Setup"
   ]
  },
  {
   "cell_type": "code",
   "execution_count": 1,
   "metadata": {},
   "outputs": [],
   "source": [
    "import torch\n",
    "import numpy as np\n",
    "import matplotlib.pyplot as plt\n",
    "from unityagents import UnityEnvironment\n",
    "from agents.utils import get_config, smooth\n",
    "from agents.buffer import ReplayBuffer\n",
    "from agents.agents import DDPGAgent, TD3Agent\n",
    "from tqdm.auto import tqdm"
   ]
  },
  {
   "cell_type": "code",
   "execution_count": 2,
   "metadata": {},
   "outputs": [
    {
     "data": {
      "text/plain": [
       "<torch._C.Generator at 0x229800e6e50>"
      ]
     },
     "execution_count": 2,
     "metadata": {},
     "output_type": "execute_result"
    }
   ],
   "source": [
    "# Set global variables\n",
    "FIRST_ACTOR_WEIGHTS_PATH = 'agents/weights/pretrained_first_actor.pt'\n",
    "FIRST_CRITIC_WEIGHTS_PATH = 'agents/weights/pretrained_first_critic.pt'\n",
    "SECOND_ACTOR_WEIGHTS_PATH = 'agents/weights/pretrained_second_actor.pt'\n",
    "SECOND_CRITIC_WEIGHTS_PATH = 'agents/weights/pretrained_second_critic.pt'\n",
    "\n",
    "######################################## Define this as explained in README.md ##########################################\n",
    "TENNIS_PATH = 'environment/tennis_windows/Tennis.exe'\n",
    "#########################################################################################################################\n",
    "\n",
    "NUM_EPISODES = 20000\n",
    "\n",
    "# Set random seeds for reproducibility\n",
    "np.random.seed(2)\n",
    "torch.manual_seed(2)"
   ]
  },
  {
   "cell_type": "code",
   "execution_count": 3,
   "metadata": {
    "scrolled": true
   },
   "outputs": [
    {
     "name": "stderr",
     "output_type": "stream",
     "text": [
      "INFO:unityagents:\n",
      "'Academy' started successfully!\n",
      "Unity Academy name: Academy\n",
      "        Number of Brains: 1\n",
      "        Number of External Brains : 1\n",
      "        Lesson number : 0\n",
      "        Reset Parameters :\n",
      "\t\t\n",
      "Unity brain name: TennisBrain\n",
      "        Number of Visual Observations (per agent): 0\n",
      "        Vector Observation space type: continuous\n",
      "        Vector Observation space size (per agent): 8\n",
      "        Number of stacked Vector Observation: 3\n",
      "        Vector Action space type: continuous\n",
      "        Vector Action space size (per agent): 2\n",
      "        Vector Action descriptions: , \n"
     ]
    }
   ],
   "source": [
    "# Initialize agent and environment\n",
    "config = get_config()\n",
    "first_agent = TD3Agent(config=config)\n",
    "second_agent = TD3Agent(config=config)\n",
    "env = UnityEnvironment(file_name=TENNIS_PATH)\n",
    "\n",
    "# Ceate the shared buffer\n",
    "shared_buffer = ReplayBuffer(config.buffer_config)\n",
    "first_agent.set_buffer(shared_buffer)\n",
    "second_agent.set_buffer(shared_buffer)\n",
    "\n",
    "# Get the default brain\n",
    "brain_name = env.brain_names[0]\n",
    "brain = env.brains[brain_name]"
   ]
  },
  {
   "cell_type": "markdown",
   "metadata": {},
   "source": [
    "## Training Day"
   ]
  },
  {
   "cell_type": "code",
   "execution_count": 4,
   "metadata": {},
   "outputs": [],
   "source": [
    "# A function used to play one episode with a given agent\n",
    "def play_one(first_agent, second_agent, env, brain_name, train_mode=True):\n",
    "    \n",
    "    # Initialize the return\n",
    "    first_agent_episode_return = 0\n",
    "    second_agent_episode_return = 0\n",
    "    \n",
    "    # Initialize stepcounter\n",
    "    step_counter = 0\n",
    "    \n",
    "    # Reset Noise\n",
    "    first_agent.ou_noise.reset()\n",
    "    second_agent.ou_noise.reset()\n",
    "    \n",
    "    # Start episode\n",
    "    env_info = env.reset(train_mode=train_mode)[brain_name]\n",
    "    first_observation = env_info.vector_observations[0, :]\n",
    "    second_observation = env_info.vector_observations[1, :]\n",
    "    done = False\n",
    "    \n",
    "    # Play\n",
    "    while not done:\n",
    "        # Interact with environment\n",
    "        first_action = first_agent.act(first_observation, step_counter)\n",
    "        second_action = second_agent.act(second_observation, step_counter)\n",
    "        action = np.concatenate([first_action, second_action], axis=0)\n",
    "        env_info = env.step(action)[brain_name]\n",
    "        next_first_observation = env_info.vector_observations[0, :]\n",
    "        next_second_observation = env_info.vector_observations[1, :]\n",
    "        first_agent_reward = env_info.rewards[0]\n",
    "        second_agent_reward = env_info.rewards[1]\n",
    "        done = env_info.local_done[0]\n",
    "        first_agent_episode_return += first_agent_reward\n",
    "        second_agent_episode_return += second_agent_reward\n",
    "\n",
    "        # Add memory\n",
    "        first_agent.memento(first_observation, first_action, first_agent_reward, next_first_observation, done)\n",
    "        second_agent.memento(second_observation, second_action, second_agent_reward, next_second_observation, done)\n",
    "        # Train from memory\n",
    "        if first_agent.memory.is_ready():\n",
    "            first_agent.learn()\n",
    "            second_agent.learn()\n",
    "        \n",
    "        # Perform transition\n",
    "        first_observation = next_first_observation\n",
    "        second_observation = next_second_observation\n",
    "    \n",
    "    return np.maximum(first_agent_episode_return, second_agent_episode_return)"
   ]
  },
  {
   "cell_type": "code",
   "execution_count": null,
   "metadata": {},
   "outputs": [
    {
     "name": "stdout",
     "output_type": "stream",
     "text": [
      "Filling Replay Buffer...\n",
      "Starting Training...\n"
     ]
    },
    {
     "data": {
      "application/vnd.jupyter.widget-view+json": {
       "model_id": "5eb25479899749aabbd9f8b2947dc333",
       "version_major": 2,
       "version_minor": 0
      },
      "text/plain": [
       "HBox(children=(FloatProgress(value=0.0, max=20000.0), HTML(value='')))"
      ]
     },
     "metadata": {},
     "output_type": "display_data"
    },
    {
     "name": "stdout",
     "output_type": "stream",
     "text": [
      "Average Return over the last 100 episodes: 0.0\n",
      "Average Return over the last 100 episodes: 0.0\n",
      "Average Return over the last 100 episodes: 0.0\n",
      "Average Return over the last 100 episodes: 0.0\n",
      "Average Return over the last 100 episodes: 0.0\n",
      "Average Return over the last 100 episodes: 0.0\n",
      "Average Return over the last 100 episodes: 0.0009000000171363354\n",
      "Average Return over the last 100 episodes: 0.0\n",
      "Average Return over the last 100 episodes: 0.0\n",
      "Average Return over the last 100 episodes: 0.0009000000171363354\n",
      "Average Return over the last 100 episodes: 0.0\n",
      "Average Return over the last 100 episodes: 0.0\n",
      "Average Return over the last 100 episodes: 0.0\n",
      "Average Return over the last 100 episodes: 0.0\n",
      "Average Return over the last 100 episodes: 0.0\n",
      "Average Return over the last 100 episodes: 0.0\n",
      "Average Return over the last 100 episodes: 0.0\n",
      "Average Return over the last 100 episodes: 0.0\n",
      "Average Return over the last 100 episodes: 0.008100000154227018\n",
      "Average Return over the last 100 episodes: 0.006300000119954348\n",
      "Average Return over the last 100 episodes: 0.0010000000149011613\n",
      "Average Return over the last 100 episodes: 0.002700000051409006\n",
      "Average Return over the last 100 episodes: 0.0010000000149011613\n",
      "Average Return over the last 100 episodes: 0.0\n",
      "Average Return over the last 100 episodes: 0.004500000085681677\n",
      "Average Return over the last 100 episodes: 0.005900000091642142\n",
      "Average Return over the last 100 episodes: 0.0030000000447034836\n",
      "Average Return over the last 100 episodes: 0.0\n",
      "Average Return over the last 100 episodes: 0.0\n",
      "Average Return over the last 100 episodes: 0.0\n",
      "Average Return over the last 100 episodes: 0.0\n",
      "Average Return over the last 100 episodes: 0.0030000000447034836\n",
      "Average Return over the last 100 episodes: 0.006800000108778476\n",
      "Average Return over the last 100 episodes: 0.007000000104308128\n",
      "Average Return over the last 100 episodes: 0.012000000178813934\n",
      "Average Return over the last 100 episodes: 0.0030000000447034836\n",
      "Average Return over the last 100 episodes: 0.011000000163912773\n",
      "Average Return over the last 100 episodes: 0.028800000436604023\n",
      "Average Return over the last 100 episodes: 0.021500000339001415\n",
      "Average Return over the last 100 episodes: 0.02300000037997961\n",
      "Average Return over the last 100 episodes: 0.02400000039488077\n",
      "Average Return over the last 100 episodes: 0.04120000069960952\n",
      "Average Return over the last 100 episodes: 0.047200000770390035\n",
      "Average Return over the last 100 episodes: 0.03350000051781535\n",
      "Average Return over the last 100 episodes: 0.0379000005684793\n"
     ]
    }
   ],
   "source": [
    "# Populating replay buffer:\n",
    "env_info = env.reset(train_mode=True)[brain_name]\n",
    "first_observation = env_info.vector_observations[0, :]\n",
    "second_observation = env_info.vector_observations[1, :]\n",
    "done = False\n",
    "\n",
    "print('Filling Replay Buffer...')\n",
    "while not first_agent.memory.is_ready():\n",
    "    action = np.clip(np.random.randn(2, 2), -1, 1)\n",
    "    env_info = env.step(action)[brain_name]\n",
    "    first_agent_reward = env_info.rewards[0]\n",
    "    second_agent_reward = env_info.rewards[1]\n",
    "    next_first_observation = env_info.vector_observations[0, :]\n",
    "    next_second_observation = env_info.vector_observations[1, :]\n",
    "    done = env_info.local_done[0]\n",
    "\n",
    "    # Add memory\n",
    "    first_agent.memento(first_observation, action[0, :], first_agent_reward, next_first_observation, done)\n",
    "    first_agent.memento(second_observation, action[1, :], second_agent_reward, next_second_observation, done)\n",
    "    \n",
    "    first_observation = next_first_observation\n",
    "    second_observation = next_second_observation\n",
    "    if done:\n",
    "        env_info = env.reset(train_mode=True)[brain_name]\n",
    "        first_observation = env_info.vector_observations[0, :]\n",
    "        second_observation = env_info.vector_observations[1, :]\n",
    "\n",
    "# Now we are able to train our agent\n",
    "episode_returns = np.zeros(NUM_EPISODES)\n",
    "\n",
    "# Activate agents' train mode\n",
    "first_agent.train_mode = True\n",
    "second_agent.train_mode = True\n",
    "\n",
    "print('Starting Training...')\n",
    "for i in tqdm(range(NUM_EPISODES)):\n",
    "    episode_returns[i] = play_one(first_agent, second_agent, env, brain_name)\n",
    "    if i % (NUM_EPISODES // 100) == 0 and i > 0:\n",
    "        print(f'Average Return over the last 100 episodes: {smooth(episode_returns[:i+1])[-1]}')"
   ]
  },
  {
   "cell_type": "code",
   "execution_count": null,
   "metadata": {},
   "outputs": [],
   "source": [
    "# Plot the results:\n",
    "plt.figure(figsize=(20,7.5))\n",
    "plt.plot(episode_returns, color='gainsboro', label='return per episode')\n",
    "plt.plot(smooth(episode_returns), color='blue', label='return averaged over last 100 episodes')\n",
    "plt.plot(np.ones(NUM_EPISODES)*0.5, color='black', label='Target return (0.5)')\n",
    "plt.legend()\n",
    "\n",
    "# Print the return over the last 100 episodes:\n",
    "print(f'Over the last 100 episodes, the agent received an average return of {smooth(episode_returns)[-1]}')"
   ]
  },
  {
   "cell_type": "code",
   "execution_count": null,
   "metadata": {},
   "outputs": [],
   "source": [
    "# Save weights\n",
    "first_agent.save(FIRST_ACTOR_WEIGHTS_PATH, FIRST_CRITIC_WEIGHTS_PATH)\n",
    "second_agent.save(SECOND_ACTOR_WEIGHTS_PATH, SECOND_CRITIC_WEIGHTS_PATH)"
   ]
  },
  {
   "cell_type": "markdown",
   "metadata": {},
   "source": [
    "## Evaluate"
   ]
  },
  {
   "cell_type": "code",
   "execution_count": null,
   "metadata": {},
   "outputs": [],
   "source": [
    "# Dectivate agents' train mode (setting exploration to zero)\n",
    "first_agent.train_mode = False\n",
    "second_agent.train_mode = False\n",
    "# Play 100 episodes and print the average reward (repeated for 10 runs):\n",
    "for i in tqdm(range(1)):\n",
    "    cache = np.zeros(100)\n",
    "    for j in range(100):\n",
    "        cache[j] = play_one(first_agent, second_agent, env, brain_name)\n",
    "    print(f'In run {i+1} the Agent received an average return of {np.mean(cache)} over 100 episodes.')"
   ]
  },
  {
   "cell_type": "markdown",
   "metadata": {},
   "source": [
    "## Watch"
   ]
  },
  {
   "cell_type": "code",
   "execution_count": null,
   "metadata": {},
   "outputs": [],
   "source": [
    "# Watch Time\n",
    "play_one(first_agent, second_agent, env, brain_name, train_mode=False)"
   ]
  },
  {
   "cell_type": "markdown",
   "metadata": {},
   "source": [
    "## Clean up"
   ]
  },
  {
   "cell_type": "code",
   "execution_count": null,
   "metadata": {},
   "outputs": [],
   "source": [
    "# Shutdown\n",
    "# env.close()"
   ]
  }
 ],
 "metadata": {
  "kernelspec": {
   "display_name": "drlnd",
   "language": "python",
   "name": "drlnd"
  },
  "language_info": {
   "codemirror_mode": {
    "name": "ipython",
    "version": 3
   },
   "file_extension": ".py",
   "mimetype": "text/x-python",
   "name": "python",
   "nbconvert_exporter": "python",
   "pygments_lexer": "ipython3",
   "version": "3.7.7"
  }
 },
 "nbformat": 4,
 "nbformat_minor": 2
}
