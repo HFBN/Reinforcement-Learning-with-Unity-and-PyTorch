{
 "cells": [
  {
   "cell_type": "markdown",
   "metadata": {},
   "source": [
    "## Setup"
   ]
  },
  {
   "cell_type": "code",
   "execution_count": 1,
   "metadata": {},
   "outputs": [],
   "source": [
    "import torch\n",
    "import numpy as np\n",
    "import matplotlib.pyplot as plt\n",
    "from unityagents import UnityEnvironment\n",
    "from agents.utils import get_config, smooth\n",
    "from agents.agents import DQN, DoubleQAgent, DuelingQAgent, DDQAgent\n",
    "from tqdm.auto import tqdm"
   ]
  },
  {
   "cell_type": "code",
   "execution_count": 2,
   "metadata": {},
   "outputs": [
    {
     "data": {
      "text/plain": [
       "<torch._C.Generator at 0x19c632e7e50>"
      ]
     },
     "execution_count": 2,
     "metadata": {},
     "output_type": "execute_result"
    }
   ],
   "source": [
    "# Set global variables\n",
    "WEIGHTS_PATH = 'agents/weights/pretrained_network.pt'\n",
    "\n",
    "######################################## Define this as explained in README.md###########################################\n",
    "BANANA_PATH = 'environment/banana_windows/Banana.exe'\n",
    "#########################################################################################################################\n",
    "\n",
    "NUM_EPISODES = 3000\n",
    "\n",
    "# Set random seeds for reproducibility\n",
    "np.random.seed(1)\n",
    "torch.manual_seed(1)"
   ]
  },
  {
   "cell_type": "code",
   "execution_count": 3,
   "metadata": {},
   "outputs": [
    {
     "name": "stderr",
     "output_type": "stream",
     "text": [
      "INFO:unityagents:\n",
      "'Academy' started successfully!\n",
      "Unity Academy name: Academy\n",
      "        Number of Brains: 1\n",
      "        Number of External Brains : 1\n",
      "        Lesson number : 0\n",
      "        Reset Parameters :\n",
      "\t\t\n",
      "Unity brain name: BananaBrain\n",
      "        Number of Visual Observations (per agent): 0\n",
      "        Vector Observation space type: continuous\n",
      "        Vector Observation space size (per agent): 37\n",
      "        Number of stacked Vector Observation: 1\n",
      "        Vector Action space type: discrete\n",
      "        Vector Action space size (per agent): 4\n",
      "        Vector Action descriptions: , , , \n"
     ]
    }
   ],
   "source": [
    "# Initialize agent and environment\n",
    "agent_config = get_config()\n",
    "agent = DDQAgent(config=agent_config)\n",
    "env = UnityEnvironment(file_name=BANANA_PATH)\n",
    "\n",
    "# Get the default brain\n",
    "brain_name = env.brain_names[0]\n",
    "brain = env.brains[brain_name]"
   ]
  },
  {
   "cell_type": "markdown",
   "metadata": {},
   "source": [
    "## Training Day"
   ]
  },
  {
   "cell_type": "code",
   "execution_count": 4,
   "metadata": {},
   "outputs": [],
   "source": [
    "# A function used to play one episode with a given agent\n",
    "def play_one(agent, env, brain_name, train_mode=True):\n",
    "    \n",
    "    # Initialize the return\n",
    "    episode_return = 0\n",
    "    \n",
    "    # Start episode\n",
    "    env_info = env.reset(train_mode=train_mode)[brain_name]\n",
    "    observation = env_info.vector_observations[0]\n",
    "    done = False\n",
    "    \n",
    "    # Play\n",
    "    while not done:\n",
    "        # Interact with environment\n",
    "        action = agent.act(observation)\n",
    "        env_info = env.step(action)[brain_name]\n",
    "        next_observation = env_info.vector_observations[0]\n",
    "        reward = env_info.rewards[0]\n",
    "        done = env_info.local_done[0]\n",
    "        episode_return += reward     \n",
    "\n",
    "        # Add memory\n",
    "        agent.memento(observation, action, reward, next_observation, done)\n",
    "        # Train from memory\n",
    "        agent.learn()\n",
    "        \n",
    "        # Perform transition\n",
    "        observation = next_observation\n",
    "    \n",
    "    return episode_return"
   ]
  },
  {
   "cell_type": "code",
   "execution_count": 5,
   "metadata": {},
   "outputs": [
    {
     "name": "stdout",
     "output_type": "stream",
     "text": [
      "Filling Replay Buffer...\n",
      "Starting Training...\n"
     ]
    },
    {
     "data": {
      "application/vnd.jupyter.widget-view+json": {
       "model_id": "341499ab0d0a4e68a5a56c64f07a5ac5",
       "version_major": 2,
       "version_minor": 0
      },
      "text/plain": [
       "HBox(children=(FloatProgress(value=0.0, max=3000.0), HTML(value='')))"
      ]
     },
     "metadata": {},
     "output_type": "display_data"
    },
    {
     "name": "stdout",
     "output_type": "stream",
     "text": [
      "Average Return over the last 100 episodes: -0.3225806451612903\n",
      "Average Return over the last 100 episodes: -0.18032786885245902\n",
      "Average Return over the last 100 episodes: -0.13186813186813187\n",
      "Average Return over the last 100 episodes: 0.49\n",
      "Average Return over the last 100 episodes: 2.0\n",
      "Average Return over the last 100 episodes: 4.34\n",
      "Average Return over the last 100 episodes: 6.54\n",
      "Average Return over the last 100 episodes: 7.79\n",
      "Average Return over the last 100 episodes: 8.57\n",
      "Average Return over the last 100 episodes: 9.65\n",
      "Average Return over the last 100 episodes: 10.0\n",
      "Average Return over the last 100 episodes: 10.55\n",
      "Average Return over the last 100 episodes: 10.6\n",
      "Average Return over the last 100 episodes: 10.77\n",
      "Average Return over the last 100 episodes: 11.12\n",
      "Average Return over the last 100 episodes: 10.91\n",
      "Average Return over the last 100 episodes: 11.46\n",
      "Average Return over the last 100 episodes: 10.95\n",
      "Average Return over the last 100 episodes: 11.57\n",
      "Average Return over the last 100 episodes: 11.8\n",
      "Average Return over the last 100 episodes: 12.34\n",
      "Average Return over the last 100 episodes: 12.19\n",
      "Average Return over the last 100 episodes: 12.05\n",
      "Average Return over the last 100 episodes: 11.68\n",
      "Average Return over the last 100 episodes: 11.38\n",
      "Average Return over the last 100 episodes: 11.51\n",
      "Average Return over the last 100 episodes: 11.68\n",
      "Average Return over the last 100 episodes: 11.66\n",
      "Average Return over the last 100 episodes: 11.51\n",
      "Average Return over the last 100 episodes: 11.74\n",
      "Average Return over the last 100 episodes: 11.89\n",
      "Average Return over the last 100 episodes: 12.84\n",
      "Average Return over the last 100 episodes: 12.81\n",
      "Average Return over the last 100 episodes: 12.57\n",
      "Average Return over the last 100 episodes: 12.44\n",
      "Average Return over the last 100 episodes: 12.25\n",
      "Average Return over the last 100 episodes: 12.28\n",
      "Average Return over the last 100 episodes: 12.48\n",
      "Average Return over the last 100 episodes: 12.71\n",
      "Average Return over the last 100 episodes: 12.63\n",
      "Average Return over the last 100 episodes: 12.88\n",
      "Average Return over the last 100 episodes: 12.78\n",
      "Average Return over the last 100 episodes: 12.96\n",
      "Average Return over the last 100 episodes: 12.99\n",
      "Average Return over the last 100 episodes: 12.98\n",
      "Average Return over the last 100 episodes: 12.15\n",
      "Average Return over the last 100 episodes: 11.65\n",
      "Average Return over the last 100 episodes: 11.68\n",
      "Average Return over the last 100 episodes: 12.48\n",
      "Average Return over the last 100 episodes: 12.38\n",
      "Average Return over the last 100 episodes: 12.65\n",
      "Average Return over the last 100 episodes: 12.94\n",
      "Average Return over the last 100 episodes: 13.04\n",
      "Average Return over the last 100 episodes: 13.1\n",
      "Average Return over the last 100 episodes: 13.04\n",
      "Average Return over the last 100 episodes: 13.37\n",
      "Average Return over the last 100 episodes: 13.23\n",
      "Average Return over the last 100 episodes: 13.71\n",
      "Average Return over the last 100 episodes: 13.64\n",
      "Average Return over the last 100 episodes: 14.02\n",
      "Average Return over the last 100 episodes: 13.61\n",
      "Average Return over the last 100 episodes: 13.41\n",
      "Average Return over the last 100 episodes: 13.29\n",
      "Average Return over the last 100 episodes: 13.27\n",
      "Average Return over the last 100 episodes: 13.2\n",
      "Average Return over the last 100 episodes: 13.33\n",
      "Average Return over the last 100 episodes: 13.16\n",
      "Average Return over the last 100 episodes: 13.53\n",
      "Average Return over the last 100 episodes: 13.4\n",
      "Average Return over the last 100 episodes: 13.42\n",
      "Average Return over the last 100 episodes: 13.53\n",
      "Average Return over the last 100 episodes: 13.79\n",
      "Average Return over the last 100 episodes: 13.61\n",
      "Average Return over the last 100 episodes: 13.53\n",
      "Average Return over the last 100 episodes: 14.08\n",
      "Average Return over the last 100 episodes: 14.16\n",
      "Average Return over the last 100 episodes: 14.18\n",
      "Average Return over the last 100 episodes: 13.98\n",
      "Average Return over the last 100 episodes: 13.88\n",
      "Average Return over the last 100 episodes: 13.98\n",
      "Average Return over the last 100 episodes: 14.24\n",
      "Average Return over the last 100 episodes: 14.45\n",
      "Average Return over the last 100 episodes: 14.35\n",
      "Average Return over the last 100 episodes: 14.5\n",
      "Average Return over the last 100 episodes: 14.72\n",
      "Average Return over the last 100 episodes: 14.86\n",
      "Average Return over the last 100 episodes: 14.64\n",
      "Average Return over the last 100 episodes: 14.03\n",
      "Average Return over the last 100 episodes: 13.79\n",
      "Average Return over the last 100 episodes: 13.55\n",
      "Average Return over the last 100 episodes: 13.57\n",
      "Average Return over the last 100 episodes: 13.87\n",
      "Average Return over the last 100 episodes: 14.3\n",
      "Average Return over the last 100 episodes: 14.76\n",
      "Average Return over the last 100 episodes: 14.53\n",
      "Average Return over the last 100 episodes: 14.82\n",
      "Average Return over the last 100 episodes: 14.85\n",
      "Average Return over the last 100 episodes: 15.01\n",
      "Average Return over the last 100 episodes: 14.73\n",
      "\n"
     ]
    }
   ],
   "source": [
    "# Populating replay buffer:\n",
    "env_info = env.reset(train_mode=True)[brain_name]\n",
    "observation = env_info.vector_observations[0]\n",
    "done = False\n",
    "\n",
    "print('Filling Replay Buffer...')\n",
    "while not agent.memory.is_ready():\n",
    "    action = np.random.choice(4)\n",
    "    env_info = env.step(action)[brain_name]\n",
    "    reward = env_info.rewards[0]\n",
    "    next_observation = env_info.vector_observations[0]\n",
    "    done = env_info.local_done[0]\n",
    "\n",
    "    # Add memory\n",
    "    agent.memento(observation, action, reward, next_observation, done)\n",
    "    \n",
    "    observation = next_observation\n",
    "    if done:\n",
    "        env_info = env.reset(train_mode=True)[brain_name]\n",
    "        observation = env_info.vector_observations[0]\n",
    "\n",
    "# Now we are able to train our agent\n",
    "episode_returns = np.zeros(NUM_EPISODES)\n",
    "\n",
    "print('Starting Training...')\n",
    "for i in tqdm(range(NUM_EPISODES)):\n",
    "    episode_returns[i] = play_one(agent, env, brain_name)\n",
    "    if i % (NUM_EPISODES // 100) == 0 and i > 0:\n",
    "        print(f'Average Return over the last 100 episodes: {smooth(episode_returns[:i+1])[-1]}')"
   ]
  },
  {
   "cell_type": "code",
   "execution_count": 6,
   "metadata": {},
   "outputs": [
    {
     "name": "stdout",
     "output_type": "stream",
     "text": [
      "Over the last 100 episodes, the agent received an average return of 14.15\n"
     ]
    },
    {
     "data": {
      "image/png": "[encoded data removed]",
      "text/plain": [
       "<Figure size 1440x540 with 1 Axes>"
      ]
     },
     "metadata": {
      "needs_background": "light"
     },
     "output_type": "display_data"
    }
   ],
   "source": [
    "# Plot the results:\n",
    "plt.figure(figsize=(20,7.5))\n",
    "plt.plot(episode_returns, color='gainsboro', label='return per episode')\n",
    "plt.plot(smooth(episode_returns), color='blue', label='return averaged over last 100 episodes')\n",
    "plt.plot(np.ones(NUM_EPISODES)*13, color='black', label='Target return (13)')\n",
    "plt.legend()\n",
    "\n",
    "# Print the return over the last 100 episodes:\n",
    "print(f'Over the last 100 episodes, the agent received an average return of {smooth(episode_returns)[-1]}')"
   ]
  },
  {
   "cell_type": "code",
   "execution_count": 7,
   "metadata": {},
   "outputs": [],
   "source": [
    "# Save weights\n",
    "# agent.save(WEIGHTS_PATH)"
   ]
  },
  {
   "cell_type": "markdown",
   "metadata": {},
   "source": [
    "## Evaluate"
   ]
  },
  {
   "cell_type": "code",
   "execution_count": 8,
   "metadata": {},
   "outputs": [
    {
     "data": {
      "application/vnd.jupyter.widget-view+json": {
       "model_id": "64b14a6e52c74516a982253c5b5ba038",
       "version_major": 2,
       "version_minor": 0
      },
      "text/plain": [
       "HBox(children=(FloatProgress(value=0.0, max=10.0), HTML(value='')))"
      ]
     },
     "metadata": {},
     "output_type": "display_data"
    },
    {
     "name": "stdout",
     "output_type": "stream",
     "text": [
      "In run 1 the Agent received an average return of 14.27 over 100 episodes.\n",
      "In run 2 the Agent received an average return of 14.23 over 100 episodes.\n",
      "In run 3 the Agent received an average return of 14.69 over 100 episodes.\n",
      "In run 4 the Agent received an average return of 14.27 over 100 episodes.\n",
      "In run 5 the Agent received an average return of 13.98 over 100 episodes.\n",
      "In run 6 the Agent received an average return of 13.9 over 100 episodes.\n",
      "In run 7 the Agent received an average return of 13.54 over 100 episodes.\n",
      "In run 8 the Agent received an average return of 13.82 over 100 episodes.\n",
      "In run 9 the Agent received an average return of 14.06 over 100 episodes.\n",
      "In run 10 the Agent received an average return of 14.42 over 100 episodes.\n",
      "\n"
     ]
    }
   ],
   "source": [
    "# Set exploration to zero:\n",
    "agent.epsilon = 0\n",
    "# Play 100 episodes and print the average reward (repeated for 10 runs):\n",
    "for i in tqdm(range(10)):\n",
    "    cache = np.zeros(100)\n",
    "    for j in range(100):\n",
    "        cache[j] = play_one(agent, env, brain_name)\n",
    "    print(f'In run {i+1} the Agent received an average return of {np.mean(cache)} over 100 episodes.')"
   ]
  },
  {
   "cell_type": "markdown",
   "metadata": {},
   "source": [
    "## Watch"
   ]
  },
  {
   "cell_type": "code",
   "execution_count": 9,
   "metadata": {},
   "outputs": [
    {
     "data": {
      "text/plain": [
       "12.0"
      ]
     },
     "execution_count": 9,
     "metadata": {},
     "output_type": "execute_result"
    }
   ],
   "source": [
    "# Watch Time\n",
    "play_one(agent, env, brain_name, train_mode=False)"
   ]
  },
  {
   "cell_type": "markdown",
   "metadata": {},
   "source": [
    "## Clean up"
   ]
  },
  {
   "cell_type": "code",
   "execution_count": 10,
   "metadata": {},
   "outputs": [],
   "source": [
    "# Shutdown\n",
    "env.close()"
   ]
  }
 ],
 "metadata": {
  "kernelspec": {
   "display_name": "drlnd",
   "language": "python",
   "name": "drlnd"
  },
  "language_info": {
   "codemirror_mode": {
    "name": "ipython",
    "version": 3
   },
   "file_extension": ".py",
   "mimetype": "text/x-python",
   "name": "python",
   "nbconvert_exporter": "python",
   "pygments_lexer": "ipython3",
   "version": "3.7.7"
  }
 },
 "nbformat": 4,
 "nbformat_minor": 2
}
